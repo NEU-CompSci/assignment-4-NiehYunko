{
  "nbformat": 4,
  "nbformat_minor": 0,
  "metadata": {
    "colab": {
      "provenance": []
    },
    "kernelspec": {
      "name": "python3",
      "display_name": "Python 3"
    },
    "language_info": {
      "name": "python"
    }
  },
  "cells": [
    {
      "cell_type": "code",
      "execution_count": 31,
      "metadata": {
        "id": "BuNgEH2QBRPT"
      },
      "outputs": [],
      "source": [
        "import matplotlib.pyplot as plt\n",
        "import pandas as pd\n",
        "import numpy as np\n",
        "import math"
      ]
    },
    {
      "cell_type": "code",
      "source": [
        "!wget https://course.ccs.neu.edu/cs6220/homework-4/data/f150_motor_distributors.txt"
      ],
      "metadata": {
        "colab": {
          "base_uri": "https://localhost:8080/"
        },
        "id": "_pFxeJ78wvdV",
        "outputId": "c60148f7-a579-4bdf-ea95-c867228dab7b"
      },
      "execution_count": 32,
      "outputs": [
        {
          "output_type": "stream",
          "name": "stdout",
          "text": [
            "--2023-03-01 14:02:39--  https://course.ccs.neu.edu/cs6220/homework-4/data/f150_motor_distributors.txt\n",
            "Resolving course.ccs.neu.edu (course.ccs.neu.edu)... 129.10.117.35\n",
            "Connecting to course.ccs.neu.edu (course.ccs.neu.edu)|129.10.117.35|:443... connected.\n",
            "HTTP request sent, awaiting response... 200 OK\n",
            "Length: 255541 (250K) [text/plain]\n",
            "Saving to: ‘f150_motor_distributors.txt.1’\n",
            "\n",
            "f150_motor_distribu 100%[===================>] 249.55K  --.-KB/s    in 0.1s    \n",
            "\n",
            "2023-03-01 14:02:40 (1.88 MB/s) - ‘f150_motor_distributors.txt.1’ saved [255541/255541]\n",
            "\n"
          ]
        }
      ]
    },
    {
      "cell_type": "code",
      "source": [
        "df = pd.read_csv('/content/f150_motor_distributors.txt', delimiter= ',', names=[\"timing_speed\", \"coil_gap\"])\n",
        "df.head(10)"
      ],
      "metadata": {
        "colab": {
          "base_uri": "https://localhost:8080/",
          "height": 363
        },
        "id": "prcL3tNmB4Ch",
        "outputId": "0b6c79e2-4f6a-420e-e0a8-017bfb5535b0"
      },
      "execution_count": 33,
      "outputs": [
        {
          "output_type": "execute_result",
          "data": {
            "text/plain": [
              "   timing_speed  coil_gap\n",
              "0    -11.969996 -8.039628\n",
              "1    -26.961416 -6.962109\n",
              "2    -12.915849 -1.378941\n",
              "3     22.476144  2.066612\n",
              "4    -13.146631  4.835322\n",
              "5     36.851734  2.470103\n",
              "6     -9.067511 -1.179764\n",
              "7    -22.889891 -1.020943\n",
              "8     -2.358063  1.240317\n",
              "9     22.832520  1.705266"
            ],
            "text/html": [
              "\n",
              "  <div id=\"df-3987adfb-72bb-47d3-8fe7-7fdb24b8bd1e\">\n",
              "    <div class=\"colab-df-container\">\n",
              "      <div>\n",
              "<style scoped>\n",
              "    .dataframe tbody tr th:only-of-type {\n",
              "        vertical-align: middle;\n",
              "    }\n",
              "\n",
              "    .dataframe tbody tr th {\n",
              "        vertical-align: top;\n",
              "    }\n",
              "\n",
              "    .dataframe thead th {\n",
              "        text-align: right;\n",
              "    }\n",
              "</style>\n",
              "<table border=\"1\" class=\"dataframe\">\n",
              "  <thead>\n",
              "    <tr style=\"text-align: right;\">\n",
              "      <th></th>\n",
              "      <th>timing_speed</th>\n",
              "      <th>coil_gap</th>\n",
              "    </tr>\n",
              "  </thead>\n",
              "  <tbody>\n",
              "    <tr>\n",
              "      <th>0</th>\n",
              "      <td>-11.969996</td>\n",
              "      <td>-8.039628</td>\n",
              "    </tr>\n",
              "    <tr>\n",
              "      <th>1</th>\n",
              "      <td>-26.961416</td>\n",
              "      <td>-6.962109</td>\n",
              "    </tr>\n",
              "    <tr>\n",
              "      <th>2</th>\n",
              "      <td>-12.915849</td>\n",
              "      <td>-1.378941</td>\n",
              "    </tr>\n",
              "    <tr>\n",
              "      <th>3</th>\n",
              "      <td>22.476144</td>\n",
              "      <td>2.066612</td>\n",
              "    </tr>\n",
              "    <tr>\n",
              "      <th>4</th>\n",
              "      <td>-13.146631</td>\n",
              "      <td>4.835322</td>\n",
              "    </tr>\n",
              "    <tr>\n",
              "      <th>5</th>\n",
              "      <td>36.851734</td>\n",
              "      <td>2.470103</td>\n",
              "    </tr>\n",
              "    <tr>\n",
              "      <th>6</th>\n",
              "      <td>-9.067511</td>\n",
              "      <td>-1.179764</td>\n",
              "    </tr>\n",
              "    <tr>\n",
              "      <th>7</th>\n",
              "      <td>-22.889891</td>\n",
              "      <td>-1.020943</td>\n",
              "    </tr>\n",
              "    <tr>\n",
              "      <th>8</th>\n",
              "      <td>-2.358063</td>\n",
              "      <td>1.240317</td>\n",
              "    </tr>\n",
              "    <tr>\n",
              "      <th>9</th>\n",
              "      <td>22.832520</td>\n",
              "      <td>1.705266</td>\n",
              "    </tr>\n",
              "  </tbody>\n",
              "</table>\n",
              "</div>\n",
              "      <button class=\"colab-df-convert\" onclick=\"convertToInteractive('df-3987adfb-72bb-47d3-8fe7-7fdb24b8bd1e')\"\n",
              "              title=\"Convert this dataframe to an interactive table.\"\n",
              "              style=\"display:none;\">\n",
              "        \n",
              "  <svg xmlns=\"http://www.w3.org/2000/svg\" height=\"24px\"viewBox=\"0 0 24 24\"\n",
              "       width=\"24px\">\n",
              "    <path d=\"M0 0h24v24H0V0z\" fill=\"none\"/>\n",
              "    <path d=\"M18.56 5.44l.94 2.06.94-2.06 2.06-.94-2.06-.94-.94-2.06-.94 2.06-2.06.94zm-11 1L8.5 8.5l.94-2.06 2.06-.94-2.06-.94L8.5 2.5l-.94 2.06-2.06.94zm10 10l.94 2.06.94-2.06 2.06-.94-2.06-.94-.94-2.06-.94 2.06-2.06.94z\"/><path d=\"M17.41 7.96l-1.37-1.37c-.4-.4-.92-.59-1.43-.59-.52 0-1.04.2-1.43.59L10.3 9.45l-7.72 7.72c-.78.78-.78 2.05 0 2.83L4 21.41c.39.39.9.59 1.41.59.51 0 1.02-.2 1.41-.59l7.78-7.78 2.81-2.81c.8-.78.8-2.07 0-2.86zM5.41 20L4 18.59l7.72-7.72 1.47 1.35L5.41 20z\"/>\n",
              "  </svg>\n",
              "      </button>\n",
              "      \n",
              "  <style>\n",
              "    .colab-df-container {\n",
              "      display:flex;\n",
              "      flex-wrap:wrap;\n",
              "      gap: 12px;\n",
              "    }\n",
              "\n",
              "    .colab-df-convert {\n",
              "      background-color: #E8F0FE;\n",
              "      border: none;\n",
              "      border-radius: 50%;\n",
              "      cursor: pointer;\n",
              "      display: none;\n",
              "      fill: #1967D2;\n",
              "      height: 32px;\n",
              "      padding: 0 0 0 0;\n",
              "      width: 32px;\n",
              "    }\n",
              "\n",
              "    .colab-df-convert:hover {\n",
              "      background-color: #E2EBFA;\n",
              "      box-shadow: 0px 1px 2px rgba(60, 64, 67, 0.3), 0px 1px 3px 1px rgba(60, 64, 67, 0.15);\n",
              "      fill: #174EA6;\n",
              "    }\n",
              "\n",
              "    [theme=dark] .colab-df-convert {\n",
              "      background-color: #3B4455;\n",
              "      fill: #D2E3FC;\n",
              "    }\n",
              "\n",
              "    [theme=dark] .colab-df-convert:hover {\n",
              "      background-color: #434B5C;\n",
              "      box-shadow: 0px 1px 3px 1px rgba(0, 0, 0, 0.15);\n",
              "      filter: drop-shadow(0px 1px 2px rgba(0, 0, 0, 0.3));\n",
              "      fill: #FFFFFF;\n",
              "    }\n",
              "  </style>\n",
              "\n",
              "      <script>\n",
              "        const buttonEl =\n",
              "          document.querySelector('#df-3987adfb-72bb-47d3-8fe7-7fdb24b8bd1e button.colab-df-convert');\n",
              "        buttonEl.style.display =\n",
              "          google.colab.kernel.accessAllowed ? 'block' : 'none';\n",
              "\n",
              "        async function convertToInteractive(key) {\n",
              "          const element = document.querySelector('#df-3987adfb-72bb-47d3-8fe7-7fdb24b8bd1e');\n",
              "          const dataTable =\n",
              "            await google.colab.kernel.invokeFunction('convertToInteractive',\n",
              "                                                     [key], {});\n",
              "          if (!dataTable) return;\n",
              "\n",
              "          const docLinkHtml = 'Like what you see? Visit the ' +\n",
              "            '<a target=\"_blank\" href=https://colab.research.google.com/notebooks/data_table.ipynb>data table notebook</a>'\n",
              "            + ' to learn more about interactive tables.';\n",
              "          element.innerHTML = '';\n",
              "          dataTable['output_type'] = 'display_data';\n",
              "          await google.colab.output.renderOutput(dataTable, element);\n",
              "          const docLink = document.createElement('div');\n",
              "          docLink.innerHTML = docLinkHtml;\n",
              "          element.appendChild(docLink);\n",
              "        }\n",
              "      </script>\n",
              "    </div>\n",
              "  </div>\n",
              "  "
            ]
          },
          "metadata": {},
          "execution_count": 33
        }
      ]
    },
    {
      "cell_type": "code",
      "source": [
        "plt.scatter(df[\"timing_speed\"], df[\"coil_gap\"])"
      ],
      "metadata": {
        "id": "41KieCCtHRUg",
        "outputId": "cc3aac94-9902-45c9-8c92-62ec84bb1b97",
        "colab": {
          "base_uri": "https://localhost:8080/",
          "height": 282
        }
      },
      "execution_count": 34,
      "outputs": [
        {
          "output_type": "execute_result",
          "data": {
            "text/plain": [
              "<matplotlib.collections.PathCollection at 0x7fbecbf68d90>"
            ]
          },
          "metadata": {},
          "execution_count": 34
        },
        {
          "output_type": "display_data",
          "data": {
            "text/plain": [
              "<Figure size 432x288 with 1 Axes>"
            ],
            "image/png": "[encoded data removed]"
          },
          "metadata": {
            "needs_background": "light"
          }
        }
      ]
    },
    {
      "cell_type": "code",
      "source": [
        "x1 = np.array([10.0, 10.0])\n",
        "x2 = np.array([-10.0, -10.0])\n",
        "x3 = np.array([2.0, 2.0])\n",
        "x4 = np.array([3.0, 3.0])\n",
        "x5 = np.array([-3.0, -3.0])"
      ],
      "metadata": {
        "id": "TV5y2t-mDng_"
      },
      "execution_count": 35,
      "outputs": []
    },
    {
      "cell_type": "code",
      "source": [
        "centroids = np.array([x1, x2, x3, x4, x5])"
      ],
      "metadata": {
        "id": "ZdwssNatygxo"
      },
      "execution_count": 36,
      "outputs": []
    },
    {
      "cell_type": "code",
      "source": [
        "data = df.iloc[:, [0, 1]].values\n",
        "data"
      ],
      "metadata": {
        "id": "vd70bOXKwVF0",
        "outputId": "8117bc13-be67-411b-cbac-f2cf70cc97f0",
        "colab": {
          "base_uri": "https://localhost:8080/"
        }
      },
      "execution_count": 37,
      "outputs": [
        {
          "output_type": "execute_result",
          "data": {
            "text/plain": [
              "array([[-11.96999577,  -8.03962819],\n",
              "       [-26.96141582,  -6.96210943],\n",
              "       [-12.91584891,  -1.37894148],\n",
              "       ...,\n",
              "       [ 12.92550271,  -0.10319682],\n",
              "       [-34.33677838,   4.4057531 ],\n",
              "       [-26.81273855,  -1.63995599]])"
            ]
          },
          "metadata": {},
          "execution_count": 37
        }
      ]
    },
    {
      "cell_type": "code",
      "source": [
        "class KMeans:\n",
        "  def __init__(self, n_clusters, max_iter, centroids):\n",
        "    self.n_clusters = n_clusters\n",
        "    self.max_iter = max_iter\n",
        "    self.centroids = centroids\n",
        "\n",
        "  def fit(self, X):       \n",
        "    for i in range(self.max_iter):\n",
        "      distances = np.sqrt(((X - self.centroids[:, np.newaxis])**2).sum(axis=2))\n",
        "      cluster_labels = np.argmin(distances, axis=0)\n",
        "            \n",
        "    for j in range(self.n_clusters):\n",
        "      self.centroids[j] = X[cluster_labels == j].mean(axis=0)\n",
        "\n",
        "  def predict(self, X):\n",
        "    distances = np.sqrt(((X - self.centroids[:, np.newaxis])**2).sum(axis=2))\n",
        "    return np.argmin(distances, axis=0)"
      ],
      "metadata": {
        "id": "LBJU2hDcozyl"
      },
      "execution_count": 38,
      "outputs": []
    },
    {
      "cell_type": "code",
      "source": [
        "km = KMeans(5, 100, centroids)\n",
        "km.fit(data)"
      ],
      "metadata": {
        "id": "f60iYZ6RpbWL"
      },
      "execution_count": 39,
      "outputs": []
    },
    {
      "cell_type": "markdown",
      "source": [
        "# Question 1a\n",
        "\n",
        "## Centroids after 100 iterations"
      ],
      "metadata": {
        "id": "aSDTLiNvoQJJ"
      }
    },
    {
      "cell_type": "code",
      "source": [
        "km.centroids"
      ],
      "metadata": {
        "colab": {
          "base_uri": "https://localhost:8080/"
        },
        "id": "nLRXvRa6oLKB",
        "outputId": "b26f0f96-f6dd-40e2-ba6c-d8c68eba3a7a"
      },
      "execution_count": 40,
      "outputs": [
        {
          "output_type": "execute_result",
          "data": {
            "text/plain": [
              "array([[ 23.23559962,  -0.37277404],\n",
              "       [-23.07182069,  -0.55933281],\n",
              "       [  3.48813997,  -1.49181348],\n",
              "       [  9.85453395,  -1.08932849],\n",
              "       [ -5.32034801,  -1.63246345]])"
            ]
          },
          "metadata": {},
          "execution_count": 40
        }
      ]
    },
    {
      "cell_type": "markdown",
      "source": [
        "# Question 1b"
      ],
      "metadata": {
        "id": "y6brk3hUoxo2"
      }
    },
    {
      "cell_type": "code",
      "source": [
        "labels = km.predict(data)"
      ],
      "metadata": {
        "id": "tQxOm-2BoNFP"
      },
      "execution_count": 41,
      "outputs": []
    },
    {
      "cell_type": "code",
      "source": [
        "plt.scatter(data[:, 0], data[:, 1], c=labels)\n",
        "plt.xlabel('Timing Speed')\n",
        "plt.ylabel('Coil Gaps')\n",
        "plt.show()"
      ],
      "metadata": {
        "colab": {
          "base_uri": "https://localhost:8080/",
          "height": 279
        },
        "id": "pDYOoYg5rgfH",
        "outputId": "c612b359-bbeb-4f97-fb21-96f99c596f94"
      },
      "execution_count": 42,
      "outputs": [
        {
          "output_type": "display_data",
          "data": {
            "text/plain": [
              "<Figure size 432x288 with 1 Axes>"
            ],
            "image/png": "[encoded data removed]"
          },
          "metadata": {
            "needs_background": "light"
          }
        }
      ]
    },
    {
      "cell_type": "markdown",
      "source": [
        "# Question 1c\n",
        "\n",
        "\n",
        "## It can be seen that the data distributed in 5 strips along the x-axis, so the number of clusters = 5 is reasonable and logical\n",
        "\n",
        "## It does not cluster well, since each cluster does not showed inner relationship"
      ],
      "metadata": {
        "id": "5j9B8CflpC_j"
      }
    },
    {
      "cell_type": "code",
      "source": [
        "x6 = np.array([-10, -8])\n",
        "x7 = np.array([10, -5])\n",
        "x8 = np.array([1, -1])\n",
        "x9 = np.array([10, 2])\n",
        "x10 = np.array([5, 5])\n",
        "\n",
        "update_centroids = np.array([x6, x7, x8, x9, x10])\n",
        "\n",
        "km1 = KMeans(5, 100, update_centroids)\n",
        "km1.fit(data)\n",
        "new_labels = km1.predict(data)\n",
        "\n",
        "plt.scatter(data[:, 0], data[:, 1], c=new_labels)\n",
        "plt.xlabel('Timing Speed')\n",
        "plt.ylabel('Coil Gaps')\n",
        "plt.show()"
      ],
      "metadata": {
        "colab": {
          "base_uri": "https://localhost:8080/",
          "height": 279
        },
        "id": "DvUlZdpjp-hJ",
        "outputId": "c3136e88-007a-4163-8347-49673db3b21e"
      },
      "execution_count": 43,
      "outputs": [
        {
          "output_type": "display_data",
          "data": {
            "text/plain": [
              "<Figure size 432x288 with 1 Axes>"
            ],
            "image/png": "[encoded data removed]"
          },
          "metadata": {
            "needs_background": "light"
          }
        }
      ]
    },
    {
      "cell_type": "markdown",
      "source": [
        "# Question 2a"
      ],
      "metadata": {
        "id": "ieNyPw9bu9F2"
      }
    },
    {
      "cell_type": "code",
      "source": [
        "def mahalanobis_distance(X, Y, P):\n",
        "  diff = X - Y\n",
        "  cov_inv = np.dot(P.T, P)\n",
        "  cov_inv = np.linalg.inv(cov_inv)\n",
        "  return np.sqrt(np.dot(np.dot(diff.T, cov_inv), diff))"
      ],
      "metadata": {
        "id": "ZjGxVp3du_4z"
      },
      "execution_count": 44,
      "outputs": []
    },
    {
      "cell_type": "code",
      "source": [
        "P = np.array([[10.0, 0.5], [-10.0, 0.25]])"
      ],
      "metadata": {
        "id": "GNdQX4F1wA0I"
      },
      "execution_count": 45,
      "outputs": []
    },
    {
      "cell_type": "code",
      "source": [
        "for i in range(100):\n",
        "\n",
        "  clusters = [[], [], [], [], []]\n",
        "\n",
        "  for j in range(5000):\n",
        "      distances = [mahalanobis_distance(data[j], centroids[k], P) for k in range(5)]\n",
        "      cluster = np.argmin(distances)\n",
        "      clusters[cluster].append(j)\n",
        "  for c in range(5):\n",
        "      if clusters[c]:\n",
        "          centroids[c] = np.mean(data[clusters[c]], axis=0)\n",
        "\n",
        "output_centroids = centroids\n",
        "centroids = np.array([x1, x2, x3, x4, x5])"
      ],
      "metadata": {
        "id": "kpd6hUE_idWj"
      },
      "execution_count": 46,
      "outputs": []
    },
    {
      "cell_type": "code",
      "source": [
        "print(\"Clusters:\", clusters)\n",
        "print(\"Centroids:\", output_centroids)"
      ],
      "metadata": {
        "colab": {
          "base_uri": "https://localhost:8080/"
        },
        "id": "-BHOcQbj2_xs",
        "outputId": "e8101111-dc3e-4fdb-ce32-f46700f64009"
      },
      "execution_count": 47,
      "outputs": [
        {
          "output_type": "stream",
          "name": "stdout",
          "text": [
            "Clusters: [[3, 5, 8, 9, 13, 17, 21, 24, 28, 29, 33, 34, 37, 45, 51, 56, 62, 63, 64, 68, 70, 76, 106, 125, 126, 129, 130, 131, 134, 136, 140, 145, 151, 162, 165, 166, 169, 179, 185, 196, 198, 201, 205, 206, 209, 210, 211, 212, 214, 219, 229, 234, 237, 243, 244, 254, 255, 259, 263, 265, 271, 273, 287, 288, 290, 292, 302, 303, 310, 314, 316, 321, 344, 350, 359, 360, 367, 369, 374, 376, 377, 378, 379, 387, 398, 404, 411, 420, 421, 426, 429, 432, 435, 438, 439, 446, 447, 453, 456, 463, 468, 471, 472, 473, 484, 487, 492, 493, 501, 506, 508, 518, 519, 544, 547, 551, 558, 559, 568, 573, 577, 589, 591, 595, 599, 601, 606, 610, 615, 624, 627, 632, 633, 639, 640, 642, 661, 669, 676, 679, 683, 686, 698, 700, 712, 716, 722, 724, 725, 732, 739, 759, 761, 763, 764, 768, 778, 780, 781, 782, 787, 789, 797, 800, 806, 814, 829, 830, 831, 833, 836, 839, 841, 854, 861, 874, 876, 893, 897, 901, 903, 905, 907, 910, 914, 922, 923, 932, 940, 944, 948, 955, 963, 973, 985, 986, 987, 992, 995, 1000, 1004, 1007, 1009, 1013, 1014, 1017, 1018, 1024, 1030, 1034, 1054, 1063, 1065, 1067, 1072, 1077, 1078, 1079, 1082, 1087, 1092, 1093, 1094, 1097, 1108, 1113, 1123, 1135, 1139, 1143, 1152, 1153, 1162, 1173, 1174, 1181, 1182, 1186, 1188, 1197, 1204, 1207, 1211, 1223, 1228, 1229, 1232, 1240, 1243, 1251, 1254, 1255, 1258, 1276, 1281, 1284, 1286, 1290, 1301, 1302, 1322, 1326, 1331, 1333, 1344, 1345, 1346, 1347, 1351, 1358, 1362, 1365, 1371, 1373, 1378, 1382, 1383, 1391, 1396, 1409, 1411, 1413, 1418, 1426, 1427, 1432, 1435, 1438, 1451, 1464, 1466, 1477, 1484, 1491, 1493, 1503, 1507, 1520, 1523, 1526, 1536, 1540, 1541, 1553, 1557, 1558, 1561, 1565, 1570, 1571, 1573, 1576, 1581, 1587, 1589, 1593, 1598, 1599, 1605, 1609, 1624, 1627, 1644, 1648, 1650, 1652, 1661, 1668, 1672, 1680, 1682, 1685, 1689, 1692, 1698, 1701, 1715, 1742, 1747, 1750, 1753, 1765, 1770, 1771, 1774, 1791, 1799, 1808, 1813, 1825, 1836, 1839, 1847, 1858, 1862, 1864, 1869, 1875, 1882, 1884, 1888, 1893, 1897, 1903, 1916, 1919, 1921, 1925, 1929, 1930, 1937, 1938, 1939, 1946, 1948, 1949, 1950, 1956, 1957, 1959, 1961, 1971, 1974, 1980, 1985, 1987, 1990, 1991, 1994, 1997, 1998, 2002, 2009, 2013, 2014, 2018, 2023, 2024, 2030, 2033, 2042, 2047, 2058, 2060, 2062, 2066, 2067, 2068, 2070, 2078, 2079, 2081, 2086, 2088, 2101, 2105, 2128, 2129, 2132, 2135, 2140, 2144, 2147, 2151, 2155, 2159, 2164, 2167, 2173, 2174, 2191, 2195, 2196, 2204, 2206, 2207, 2210, 2212, 2218, 2221, 2223, 2228, 2233, 2239, 2240, 2243, 2245, 2259, 2266, 2267, 2268, 2269, 2271, 2274, 2279, 2285, 2295, 2306, 2310, 2312, 2313, 2314, 2320, 2325, 2331, 2332, 2338, 2341, 2343, 2347, 2348, 2350, 2352, 2360, 2362, 2365, 2370, 2371, 2372, 2375, 2376, 2380, 2382, 2390, 2391, 2392, 2394, 2395, 2403, 2404, 2407, 2420, 2423, 2424, 2429, 2434, 2436, 2440, 2450, 2453, 2454, 2457, 2459, 2468, 2470, 2478, 2483, 2485, 2486, 2489, 2492, 2496, 2498, 2501, 2505, 2510, 2520, 2529, 2531, 2541, 2543, 2556, 2563, 2570, 2580, 2585, 2586, 2590, 2609, 2612, 2615, 2616, 2618, 2623, 2626, 2631, 2636, 2647, 2657, 2664, 2669, 2670, 2678, 2679, 2682, 2690, 2691, 2699, 2704, 2708, 2716, 2720, 2723, 2729, 2733, 2742, 2749, 2752, 2754, 2763, 2774, 2781, 2784, 2787, 2790, 2791, 2794, 2795, 2804, 2809, 2829, 2831, 2835, 2841, 2846, 2852, 2856, 2857, 2860, 2862, 2864, 2871, 2873, 2882, 2887, 2891, 2894, 2898, 2904, 2908, 2912, 2914, 2916, 2920, 2922, 2923, 2933, 2936, 2937, 2940, 2947, 2950, 2951, 2954, 2956, 2962, 2965, 2968, 2969, 2976, 2980, 2984, 2986, 2991, 2998, 2999, 3000, 3006, 3008, 3012, 3013, 3018, 3024, 3035, 3037, 3040, 3042, 3048, 3051, 3054, 3072, 3076, 3077, 3081, 3084, 3088, 3097, 3098, 3100, 3101, 3110, 3113, 3114, 3118, 3120, 3122, 3127, 3128, 3143, 3146, 3152, 3154, 3157, 3165, 3176, 3185, 3199, 3203, 3217, 3233, 3237, 3238, 3241, 3247, 3249, 3251, 3264, 3273, 3281, 3284, 3289, 3291, 3292, 3293, 3294, 3297, 3300, 3311, 3313, 3318, 3320, 3323, 3328, 3331, 3332, 3333, 3353, 3354, 3358, 3360, 3364, 3365, 3370, 3374, 3375, 3383, 3393, 3394, 3400, 3401, 3409, 3418, 3419, 3426, 3434, 3441, 3442, 3455, 3458, 3465, 3478, 3482, 3483, 3485, 3488, 3497, 3499, 3503, 3516, 3529, 3534, 3538, 3546, 3552, 3558, 3559, 3561, 3563, 3565, 3566, 3570, 3575, 3576, 3577, 3579, 3583, 3602, 3606, 3614, 3616, 3618, 3624, 3636, 3639, 3643, 3645, 3647, 3648, 3650, 3655, 3675, 3677, 3678, 3681, 3695, 3696, 3698, 3708, 3725, 3730, 3735, 3737, 3749, 3755, 3761, 3762, 3763, 3774, 3776, 3777, 3778, 3781, 3788, 3790, 3796, 3798, 3812, 3813, 3816, 3819, 3823, 3834, 3839, 3851, 3855, 3866, 3870, 3874, 3876, 3883, 3886, 3903, 3913, 3915, 3918, 3926, 3927, 3931, 3936, 3940, 3942, 3944, 3950, 3955, 3961, 3964, 3971, 3973, 3974, 3977, 3978, 3979, 3983, 3985, 3996, 4000, 4010, 4011, 4019, 4024, 4025, 4050, 4053, 4059, 4060, 4074, 4079, 4081, 4085, 4086, 4087, 4107, 4108, 4121, 4123, 4126, 4129, 4130, 4131, 4135, 4140, 4145, 4154, 4162, 4165, 4168, 4174, 4178, 4182, 4185, 4187, 4188, 4189, 4201, 4205, 4215, 4226, 4238, 4243, 4250, 4256, 4259, 4262, 4266, 4270, 4272, 4278, 4284, 4285, 4287, 4293, 4300, 4301, 4310, 4318, 4323, 4336, 4340, 4347, 4351, 4364, 4368, 4379, 4388, 4389, 4391, 4394, 4414, 4421, 4424, 4426, 4431, 4435, 4449, 4450, 4461, 4478, 4493, 4498, 4511, 4513, 4518, 4519, 4522, 4524, 4525, 4558, 4559, 4565, 4569, 4573, 4575, 4579, 4585, 4595, 4600, 4601, 4604, 4616, 4618, 4619, 4622, 4624, 4629, 4635, 4637, 4639, 4640, 4643, 4646, 4649, 4650, 4660, 4662, 4665, 4666, 4673, 4682, 4684, 4692, 4698, 4701, 4708, 4713, 4715, 4722, 4738, 4747, 4754, 4762, 4764, 4765, 4766, 4771, 4778, 4791, 4792, 4795, 4801, 4809, 4811, 4818, 4819, 4823, 4825, 4827, 4831, 4833, 4837, 4841, 4845, 4846, 4850, 4857, 4858, 4864, 4871, 4872, 4880, 4883, 4886, 4897, 4902, 4912, 4917, 4919, 4938, 4940, 4943, 4946, 4956, 4959, 4963, 4964, 4965, 4967, 4980, 4995], [4, 12, 19, 22, 25, 30, 32, 35, 40, 43, 52, 54, 60, 66, 87, 90, 93, 94, 95, 99, 112, 127, 133, 143, 154, 159, 164, 168, 171, 180, 190, 191, 192, 197, 203, 208, 215, 216, 231, 233, 239, 240, 241, 242, 248, 249, 253, 260, 272, 274, 282, 283, 284, 285, 295, 297, 305, 306, 307, 312, 318, 319, 322, 323, 332, 333, 336, 337, 341, 342, 348, 349, 351, 358, 362, 363, 368, 372, 373, 385, 386, 391, 393, 396, 400, 412, 418, 419, 423, 424, 428, 430, 436, 443, 444, 445, 450, 458, 460, 462, 465, 477, 479, 498, 500, 523, 554, 557, 560, 564, 566, 567, 569, 578, 581, 583, 597, 603, 611, 619, 622, 625, 626, 628, 630, 634, 644, 645, 652, 660, 662, 664, 666, 668, 670, 673, 677, 690, 701, 713, 714, 715, 721, 731, 735, 766, 771, 775, 779, 783, 786, 788, 794, 801, 815, 818, 827, 834, 838, 845, 846, 852, 853, 863, 872, 873, 875, 878, 885, 888, 891, 892, 896, 911, 912, 913, 925, 928, 930, 933, 939, 941, 959, 964, 974, 975, 993, 997, 1002, 1008, 1012, 1019, 1022, 1032, 1036, 1038, 1040, 1041, 1045, 1047, 1052, 1055, 1062, 1070, 1074, 1084, 1086, 1096, 1099, 1102, 1110, 1112, 1114, 1115, 1116, 1124, 1126, 1128, 1129, 1131, 1140, 1145, 1149, 1151, 1154, 1160, 1161, 1169, 1171, 1180, 1187, 1190, 1196, 1198, 1199, 1203, 1214, 1226, 1231, 1236, 1237, 1242, 1246, 1249, 1250, 1260, 1261, 1263, 1267, 1270, 1278, 1285, 1288, 1294, 1300, 1303, 1306, 1307, 1312, 1314, 1324, 1329, 1332, 1335, 1340, 1341, 1342, 1343, 1350, 1356, 1357, 1360, 1367, 1369, 1386, 1416, 1419, 1421, 1422, 1425, 1429, 1430, 1431, 1436, 1441, 1442, 1444, 1447, 1456, 1457, 1480, 1481, 1482, 1485, 1488, 1489, 1495, 1511, 1512, 1519, 1527, 1529, 1534, 1539, 1546, 1550, 1551, 1552, 1566, 1572, 1575, 1591, 1600, 1619, 1621, 1629, 1631, 1633, 1640, 1643, 1653, 1655, 1657, 1658, 1662, 1663, 1664, 1666, 1667, 1671, 1673, 1678, 1683, 1688, 1690, 1694, 1696, 1705, 1706, 1707, 1711, 1713, 1724, 1726, 1735, 1736, 1740, 1749, 1751, 1752, 1760, 1761, 1764, 1778, 1782, 1784, 1790, 1792, 1793, 1795, 1802, 1819, 1820, 1823, 1837, 1840, 1842, 1849, 1852, 1853, 1855, 1856, 1857, 1860, 1870, 1871, 1872, 1873, 1878, 1883, 1885, 1887, 1898, 1904, 1908, 1911, 1913, 1915, 1924, 1932, 1933, 1936, 1941, 1943, 1945, 1953, 1958, 1963, 1964, 1977, 1978, 1982, 1983, 1993, 1999, 2004, 2006, 2015, 2022, 2025, 2029, 2031, 2035, 2044, 2045, 2051, 2056, 2061, 2065, 2072, 2074, 2076, 2083, 2092, 2107, 2110, 2113, 2114, 2119, 2126, 2133, 2137, 2142, 2152, 2153, 2160, 2168, 2171, 2186, 2188, 2189, 2194, 2197, 2198, 2202, 2219, 2226, 2231, 2232, 2237, 2251, 2252, 2256, 2263, 2270, 2276, 2280, 2282, 2284, 2289, 2290, 2293, 2296, 2297, 2301, 2315, 2316, 2321, 2329, 2330, 2337, 2340, 2344, 2346, 2356, 2366, 2373, 2379, 2388, 2396, 2399, 2408, 2411, 2414, 2416, 2418, 2419, 2422, 2428, 2430, 2433, 2437, 2439, 2443, 2444, 2447, 2448, 2451, 2452, 2455, 2461, 2469, 2482, 2495, 2499, 2506, 2513, 2514, 2515, 2522, 2523, 2542, 2545, 2554, 2555, 2559, 2566, 2569, 2572, 2575, 2577, 2578, 2587, 2598, 2600, 2604, 2613, 2629, 2630, 2642, 2643, 2644, 2652, 2656, 2668, 2687, 2692, 2697, 2698, 2712, 2714, 2715, 2721, 2727, 2728, 2732, 2735, 2738, 2751, 2753, 2755, 2761, 2768, 2773, 2775, 2780, 2783, 2789, 2807, 2813, 2814, 2817, 2823, 2832, 2838, 2840, 2866, 2872, 2876, 2877, 2883, 2889, 2896, 2901, 2902, 2903, 2905, 2919, 2925, 2926, 2929, 2935, 2939, 2944, 2945, 2948, 2953, 2959, 2970, 2972, 2982, 2983, 2987, 2994, 3007, 3011, 3015, 3019, 3022, 3025, 3026, 3043, 3047, 3068, 3073, 3075, 3080, 3092, 3096, 3102, 3106, 3111, 3115, 3119, 3126, 3135, 3144, 3150, 3158, 3162, 3163, 3169, 3171, 3173, 3175, 3180, 3182, 3193, 3194, 3195, 3200, 3205, 3209, 3211, 3213, 3222, 3224, 3227, 3229, 3239, 3245, 3253, 3260, 3261, 3275, 3278, 3286, 3287, 3288, 3298, 3304, 3305, 3309, 3325, 3327, 3329, 3338, 3341, 3345, 3352, 3368, 3373, 3376, 3377, 3380, 3385, 3391, 3395, 3402, 3404, 3415, 3422, 3423, 3433, 3448, 3450, 3451, 3453, 3463, 3472, 3474, 3477, 3489, 3493, 3494, 3496, 3501, 3507, 3513, 3517, 3518, 3527, 3528, 3536, 3541, 3542, 3543, 3544, 3549, 3551, 3553, 3572, 3573, 3574, 3587, 3590, 3591, 3595, 3598, 3599, 3604, 3608, 3627, 3631, 3633, 3634, 3640, 3646, 3654, 3659, 3662, 3664, 3668, 3673, 3676, 3679, 3680, 3686, 3688, 3689, 3697, 3703, 3712, 3715, 3717, 3719, 3720, 3721, 3723, 3731, 3736, 3738, 3743, 3748, 3750, 3751, 3757, 3766, 3768, 3769, 3770, 3784, 3785, 3797, 3799, 3806, 3814, 3815, 3818, 3821, 3824, 3840, 3842, 3843, 3847, 3852, 3861, 3868, 3873, 3877, 3880, 3881, 3887, 3891, 3892, 3893, 3894, 3896, 3897, 3907, 3908, 3909, 3911, 3912, 3928, 3929, 3935, 3952, 3960, 3963, 3976, 3984, 3989, 3997, 4001, 4002, 4006, 4009, 4016, 4021, 4022, 4027, 4029, 4030, 4032, 4035, 4036, 4041, 4043, 4048, 4061, 4067, 4068, 4073, 4075, 4076, 4077, 4083, 4094, 4096, 4100, 4104, 4105, 4106, 4114, 4116, 4133, 4137, 4138, 4142, 4158, 4161, 4169, 4176, 4179, 4191, 4192, 4197, 4207, 4208, 4213, 4217, 4218, 4220, 4222, 4230, 4232, 4236, 4237, 4241, 4245, 4249, 4251, 4261, 4268, 4273, 4280, 4283, 4288, 4289, 4291, 4294, 4298, 4312, 4320, 4322, 4325, 4326, 4334, 4339, 4346, 4349, 4352, 4355, 4360, 4371, 4373, 4378, 4381, 4382, 4396, 4397, 4402, 4406, 4416, 4418, 4420, 4441, 4443, 4444, 4447, 4451, 4453, 4455, 4460, 4473, 4479, 4485, 4497, 4501, 4507, 4510, 4512, 4516, 4527, 4536, 4538, 4540, 4549, 4552, 4562, 4563, 4564, 4576, 4580, 4584, 4592, 4598, 4599, 4603, 4620, 4632, 4634, 4636, 4638, 4647, 4656, 4663, 4664, 4667, 4671, 4672, 4687, 4693, 4700, 4717, 4725, 4732, 4737, 4739, 4740, 4741, 4742, 4743, 4750, 4755, 4759, 4763, 4772, 4775, 4782, 4783, 4786, 4788, 4798, 4800, 4805, 4807, 4808, 4815, 4816, 4817, 4822, 4835, 4836, 4840, 4842, 4844, 4847, 4856, 4860, 4861, 4869, 4882, 4884, 4888, 4891, 4892, 4893, 4905, 4913, 4914, 4916, 4925, 4931, 4937, 4939, 4942, 4947, 4957, 4970, 4974, 4978, 4982, 4983, 4985, 4987, 4991, 4994, 4998], [10, 23, 27, 31, 36, 39, 41, 47, 49, 55, 61, 67, 73, 74, 80, 84, 86, 92, 96, 108, 113, 119, 121, 122, 123, 128, 138, 141, 142, 152, 155, 161, 167, 174, 175, 176, 186, 200, 204, 221, 222, 225, 226, 238, 246, 267, 268, 270, 276, 278, 279, 286, 289, 291, 293, 294, 298, 301, 304, 313, 315, 324, 326, 329, 330, 331, 334, 345, 346, 354, 357, 382, 383, 394, 397, 403, 405, 408, 413, 416, 425, 434, 448, 449, 451, 452, 455, 459, 464, 466, 467, 469, 470, 474, 475, 478, 485, 490, 497, 502, 504, 505, 515, 520, 528, 529, 531, 536, 541, 543, 550, 561, 574, 575, 580, 587, 588, 594, 596, 598, 605, 607, 608, 612, 614, 620, 623, 635, 636, 643, 646, 650, 651, 655, 657, 658, 659, 663, 665, 671, 682, 687, 688, 693, 694, 702, 703, 708, 711, 720, 723, 727, 737, 740, 742, 743, 747, 748, 750, 757, 758, 767, 772, 773, 774, 784, 785, 790, 798, 804, 807, 808, 810, 811, 821, 826, 835, 851, 855, 857, 858, 862, 866, 881, 882, 883, 887, 895, 898, 909, 918, 919, 920, 927, 929, 931, 934, 936, 942, 947, 953, 960, 967, 982, 989, 991, 1006, 1020, 1033, 1035, 1039, 1043, 1049, 1053, 1056, 1057, 1061, 1064, 1069, 1081, 1089, 1104, 1111, 1119, 1130, 1132, 1133, 1134, 1141, 1144, 1150, 1159, 1165, 1166, 1172, 1176, 1177, 1183, 1184, 1193, 1194, 1195, 1205, 1206, 1208, 1210, 1212, 1213, 1222, 1233, 1247, 1248, 1253, 1256, 1257, 1259, 1266, 1272, 1273, 1274, 1283, 1287, 1289, 1299, 1305, 1313, 1316, 1320, 1323, 1327, 1334, 1336, 1337, 1359, 1363, 1364, 1366, 1368, 1370, 1374, 1375, 1384, 1392, 1397, 1403, 1404, 1407, 1408, 1414, 1415, 1428, 1433, 1434, 1437, 1440, 1446, 1448, 1452, 1453, 1454, 1461, 1463, 1467, 1475, 1478, 1483, 1490, 1494, 1498, 1502, 1506, 1509, 1516, 1517, 1522, 1524, 1525, 1530, 1542, 1545, 1548, 1549, 1560, 1562, 1567, 1584, 1585, 1586, 1588, 1594, 1602, 1603, 1604, 1606, 1607, 1616, 1618, 1634, 1635, 1642, 1645, 1646, 1651, 1659, 1660, 1677, 1687, 1695, 1697, 1699, 1702, 1704, 1709, 1717, 1718, 1721, 1730, 1731, 1732, 1734, 1739, 1741, 1743, 1744, 1745, 1746, 1756, 1758, 1768, 1769, 1776, 1780, 1788, 1796, 1804, 1805, 1811, 1815, 1821, 1828, 1829, 1830, 1831, 1834, 1841, 1848, 1859, 1867, 1868, 1879, 1880, 1889, 1891, 1899, 1900, 1901, 1906, 1907, 1922, 1926, 1928, 1940, 1944, 1954, 1960, 1962, 1966, 1968, 1970, 1973, 1988, 1995, 1996, 2001, 2007, 2012, 2026, 2028, 2034, 2039, 2053, 2055, 2059, 2064, 2077, 2089, 2093, 2097, 2108, 2111, 2116, 2117, 2120, 2124, 2130, 2150, 2162, 2165, 2175, 2178, 2179, 2181, 2182, 2185, 2187, 2190, 2193, 2203, 2208, 2209, 2213, 2222, 2229, 2244, 2246, 2258, 2272, 2273, 2278, 2288, 2292, 2300, 2303, 2307, 2309, 2318, 2319, 2327, 2328, 2333, 2336, 2342, 2351, 2354, 2357, 2367, 2377, 2378, 2384, 2386, 2387, 2389, 2398, 2402, 2425, 2432, 2438, 2449, 2463, 2464, 2475, 2480, 2487, 2488, 2490, 2494, 2497, 2500, 2502, 2504, 2512, 2517, 2518, 2525, 2526, 2527, 2532, 2533, 2537, 2538, 2539, 2540, 2544, 2546, 2548, 2561, 2571, 2573, 2574, 2576, 2581, 2583, 2602, 2606, 2610, 2611, 2628, 2637, 2639, 2648, 2649, 2651, 2654, 2658, 2665, 2683, 2685, 2686, 2695, 2696, 2700, 2702, 2705, 2706, 2709, 2717, 2724, 2730, 2734, 2741, 2743, 2744, 2750, 2756, 2757, 2762, 2764, 2767, 2770, 2778, 2779, 2797, 2798, 2799, 2802, 2806, 2808, 2810, 2815, 2819, 2820, 2827, 2830, 2834, 2837, 2844, 2849, 2859, 2867, 2880, 2881, 2884, 2893, 2909, 2911, 2924, 2927, 2932, 2938, 2943, 2949, 2963, 2967, 2977, 2981, 2985, 2989, 2992, 2993, 2995, 3004, 3005, 3009, 3010, 3014, 3016, 3033, 3044, 3045, 3046, 3056, 3058, 3059, 3063, 3065, 3067, 3074, 3083, 3086, 3091, 3094, 3099, 3104, 3107, 3112, 3116, 3121, 3123, 3129, 3134, 3137, 3139, 3141, 3145, 3155, 3160, 3161, 3167, 3168, 3179, 3183, 3187, 3188, 3192, 3202, 3210, 3216, 3220, 3221, 3226, 3234, 3235, 3243, 3244, 3246, 3248, 3250, 3254, 3259, 3265, 3266, 3270, 3272, 3279, 3280, 3285, 3314, 3316, 3319, 3324, 3337, 3346, 3350, 3357, 3362, 3371, 3384, 3389, 3390, 3403, 3408, 3414, 3417, 3420, 3425, 3428, 3431, 3447, 3452, 3454, 3457, 3462, 3464, 3468, 3475, 3476, 3500, 3502, 3504, 3505, 3508, 3511, 3512, 3522, 3523, 3531, 3537, 3545, 3556, 3564, 3567, 3586, 3594, 3601, 3605, 3610, 3613, 3617, 3619, 3620, 3621, 3632, 3637, 3638, 3649, 3652, 3653, 3660, 3666, 3667, 3670, 3682, 3683, 3692, 3699, 3704, 3705, 3709, 3710, 3713, 3724, 3727, 3728, 3742, 3744, 3758, 3759, 3760, 3779, 3786, 3787, 3792, 3801, 3802, 3804, 3809, 3811, 3817, 3820, 3829, 3831, 3835, 3836, 3838, 3844, 3850, 3856, 3865, 3869, 3875, 3889, 3890, 3906, 3910, 3914, 3917, 3920, 3923, 3925, 3930, 3932, 3937, 3946, 3948, 3949, 3951, 3954, 3967, 3970, 3980, 3986, 3992, 3998, 4008, 4017, 4020, 4028, 4031, 4038, 4039, 4047, 4051, 4054, 4063, 4064, 4069, 4070, 4071, 4080, 4082, 4084, 4089, 4090, 4091, 4093, 4097, 4101, 4102, 4111, 4112, 4115, 4117, 4118, 4119, 4125, 4134, 4136, 4139, 4141, 4143, 4147, 4148, 4149, 4159, 4172, 4175, 4177, 4198, 4200, 4202, 4203, 4210, 4212, 4214, 4219, 4235, 4240, 4242, 4253, 4255, 4264, 4265, 4274, 4275, 4295, 4297, 4302, 4303, 4304, 4306, 4308, 4313, 4315, 4316, 4321, 4324, 4329, 4335, 4338, 4354, 4361, 4365, 4369, 4370, 4375, 4376, 4384, 4387, 4393, 4403, 4408, 4423, 4428, 4434, 4446, 4456, 4457, 4462, 4463, 4465, 4466, 4470, 4474, 4476, 4480, 4486, 4488, 4500, 4508, 4515, 4520, 4523, 4528, 4529, 4530, 4532, 4533, 4539, 4541, 4544, 4546, 4547, 4548, 4550, 4553, 4555, 4556, 4560, 4568, 4570, 4571, 4572, 4577, 4593, 4602, 4633, 4642, 4644, 4645, 4648, 4655, 4657, 4658, 4668, 4669, 4676, 4679, 4680, 4683, 4686, 4688, 4690, 4702, 4704, 4716, 4718, 4720, 4724, 4728, 4731, 4734, 4751, 4753, 4758, 4760, 4774, 4784, 4787, 4793, 4796, 4806, 4812, 4814, 4829, 4830, 4838, 4839, 4848, 4849, 4851, 4852, 4859, 4863, 4866, 4870, 4874, 4877, 4878, 4895, 4898, 4899, 4904, 4908, 4915, 4922, 4928, 4929, 4935, 4936, 4949, 4950, 4955, 4968, 4973, 4975, 4981, 4988, 4992], [2, 6, 7, 14, 18, 20, 38, 44, 57, 58, 69, 72, 75, 79, 81, 88, 89, 97, 98, 100, 102, 104, 114, 115, 116, 117, 118, 124, 132, 147, 148, 150, 153, 157, 158, 170, 172, 177, 181, 182, 183, 188, 207, 218, 220, 228, 230, 232, 235, 236, 250, 252, 256, 264, 275, 281, 296, 300, 311, 317, 320, 325, 328, 335, 338, 353, 356, 366, 371, 380, 388, 389, 390, 399, 401, 402, 407, 409, 415, 433, 440, 441, 442, 476, 480, 482, 483, 489, 491, 495, 507, 510, 511, 514, 517, 522, 524, 526, 527, 530, 534, 535, 537, 542, 545, 548, 549, 552, 553, 555, 556, 562, 572, 582, 592, 593, 609, 613, 618, 629, 631, 637, 638, 647, 648, 674, 678, 681, 685, 689, 691, 692, 695, 696, 697, 704, 705, 706, 707, 709, 719, 729, 733, 738, 744, 749, 753, 755, 756, 769, 770, 777, 791, 793, 795, 799, 802, 805, 819, 824, 825, 828, 832, 843, 844, 847, 849, 856, 860, 864, 868, 870, 877, 879, 884, 890, 899, 900, 902, 906, 908, 915, 916, 917, 924, 935, 937, 938, 945, 952, 954, 956, 957, 961, 962, 966, 971, 972, 977, 979, 984, 990, 996, 998, 999, 1003, 1010, 1011, 1016, 1023, 1025, 1031, 1046, 1048, 1051, 1060, 1068, 1071, 1075, 1080, 1083, 1090, 1095, 1100, 1101, 1106, 1109, 1117, 1120, 1121, 1122, 1136, 1137, 1138, 1142, 1146, 1148, 1157, 1158, 1164, 1167, 1168, 1179, 1191, 1192, 1200, 1202, 1217, 1220, 1224, 1225, 1238, 1239, 1244, 1262, 1264, 1265, 1269, 1279, 1280, 1291, 1292, 1295, 1296, 1304, 1308, 1310, 1315, 1318, 1328, 1330, 1338, 1339, 1348, 1349, 1354, 1361, 1372, 1376, 1377, 1379, 1381, 1385, 1387, 1389, 1393, 1395, 1398, 1399, 1400, 1402, 1410, 1412, 1417, 1424, 1445, 1450, 1455, 1458, 1459, 1460, 1462, 1469, 1473, 1476, 1479, 1492, 1496, 1497, 1499, 1510, 1513, 1521, 1531, 1533, 1538, 1555, 1563, 1564, 1568, 1569, 1578, 1580, 1583, 1608, 1610, 1611, 1612, 1620, 1622, 1626, 1628, 1636, 1637, 1638, 1641, 1647, 1665, 1669, 1670, 1675, 1676, 1684, 1686, 1691, 1700, 1712, 1716, 1719, 1720, 1722, 1723, 1725, 1727, 1728, 1729, 1733, 1737, 1748, 1757, 1763, 1766, 1772, 1775, 1781, 1783, 1786, 1787, 1801, 1806, 1807, 1810, 1812, 1814, 1824, 1832, 1833, 1843, 1844, 1851, 1854, 1861, 1874, 1876, 1890, 1894, 1905, 1909, 1912, 1914, 1917, 1918, 1927, 1931, 1947, 1952, 1965, 1967, 1975, 1979, 1986, 1992, 2003, 2011, 2016, 2017, 2021, 2027, 2037, 2038, 2043, 2046, 2049, 2052, 2063, 2071, 2087, 2090, 2091, 2096, 2099, 2106, 2109, 2112, 2115, 2118, 2122, 2125, 2136, 2138, 2139, 2146, 2149, 2154, 2156, 2158, 2169, 2170, 2172, 2176, 2177, 2184, 2192, 2205, 2216, 2217, 2227, 2234, 2236, 2238, 2241, 2242, 2250, 2257, 2261, 2264, 2265, 2283, 2287, 2294, 2302, 2304, 2305, 2311, 2317, 2323, 2324, 2339, 2349, 2364, 2369, 2374, 2385, 2393, 2400, 2406, 2409, 2410, 2412, 2415, 2417, 2421, 2427, 2431, 2442, 2446, 2456, 2458, 2465, 2466, 2472, 2474, 2476, 2479, 2493, 2503, 2507, 2508, 2509, 2511, 2516, 2519, 2524, 2530, 2534, 2535, 2536, 2549, 2550, 2551, 2552, 2560, 2564, 2567, 2568, 2582, 2589, 2591, 2592, 2596, 2597, 2608, 2614, 2619, 2620, 2622, 2624, 2632, 2633, 2645, 2646, 2655, 2659, 2662, 2663, 2667, 2671, 2676, 2677, 2680, 2681, 2689, 2693, 2694, 2701, 2703, 2710, 2711, 2719, 2725, 2736, 2739, 2740, 2745, 2748, 2758, 2759, 2765, 2769, 2771, 2772, 2776, 2782, 2785, 2786, 2788, 2792, 2796, 2800, 2803, 2812, 2821, 2824, 2826, 2833, 2839, 2847, 2848, 2850, 2851, 2853, 2858, 2861, 2863, 2869, 2875, 2878, 2885, 2886, 2892, 2895, 2899, 2900, 2906, 2910, 2913, 2915, 2917, 2921, 2928, 2941, 2942, 2946, 2960, 2964, 2966, 2973, 2974, 2979, 3003, 3017, 3020, 3021, 3029, 3030, 3034, 3038, 3039, 3049, 3060, 3061, 3064, 3069, 3078, 3079, 3082, 3085, 3087, 3089, 3093, 3117, 3124, 3125, 3131, 3133, 3138, 3148, 3153, 3159, 3164, 3166, 3170, 3174, 3178, 3181, 3189, 3190, 3198, 3201, 3204, 3206, 3212, 3214, 3215, 3219, 3225, 3228, 3230, 3232, 3255, 3256, 3258, 3262, 3267, 3274, 3276, 3283, 3290, 3295, 3296, 3303, 3306, 3308, 3310, 3312, 3315, 3326, 3334, 3335, 3336, 3340, 3343, 3344, 3348, 3355, 3356, 3361, 3378, 3379, 3381, 3387, 3396, 3397, 3398, 3399, 3406, 3412, 3427, 3430, 3432, 3435, 3436, 3443, 3445, 3449, 3456, 3473, 3480, 3487, 3510, 3514, 3520, 3521, 3524, 3525, 3539, 3540, 3554, 3555, 3557, 3562, 3568, 3585, 3592, 3593, 3596, 3597, 3600, 3607, 3609, 3611, 3612, 3615, 3635, 3641, 3642, 3651, 3656, 3663, 3672, 3685, 3687, 3693, 3700, 3706, 3714, 3716, 3718, 3726, 3729, 3733, 3734, 3739, 3745, 3747, 3753, 3775, 3780, 3783, 3793, 3803, 3805, 3810, 3822, 3830, 3832, 3833, 3837, 3841, 3845, 3846, 3848, 3849, 3859, 3863, 3872, 3879, 3884, 3885, 3888, 3895, 3899, 3900, 3902, 3921, 3922, 3938, 3941, 3943, 3945, 3956, 3957, 3958, 3959, 3962, 3965, 3969, 3972, 3981, 3988, 3994, 3995, 4003, 4004, 4005, 4007, 4013, 4015, 4023, 4034, 4042, 4044, 4055, 4056, 4058, 4062, 4065, 4066, 4072, 4078, 4088, 4092, 4098, 4099, 4109, 4113, 4127, 4153, 4160, 4163, 4164, 4170, 4181, 4183, 4184, 4186, 4195, 4196, 4211, 4216, 4223, 4225, 4228, 4229, 4233, 4244, 4246, 4247, 4248, 4252, 4254, 4260, 4263, 4271, 4276, 4277, 4282, 4296, 4305, 4307, 4314, 4317, 4319, 4327, 4330, 4331, 4350, 4353, 4357, 4358, 4359, 4362, 4380, 4383, 4395, 4398, 4399, 4400, 4407, 4409, 4410, 4411, 4413, 4425, 4427, 4429, 4430, 4436, 4437, 4438, 4440, 4445, 4452, 4454, 4458, 4459, 4467, 4471, 4475, 4483, 4484, 4492, 4495, 4496, 4503, 4504, 4506, 4509, 4534, 4535, 4542, 4543, 4545, 4554, 4566, 4574, 4578, 4581, 4582, 4587, 4590, 4605, 4607, 4610, 4611, 4613, 4621, 4625, 4627, 4641, 4651, 4659, 4670, 4678, 4689, 4694, 4695, 4707, 4709, 4711, 4712, 4714, 4727, 4733, 4735, 4744, 4748, 4752, 4756, 4757, 4761, 4767, 4770, 4777, 4780, 4785, 4790, 4802, 4803, 4820, 4821, 4824, 4834, 4843, 4853, 4854, 4855, 4862, 4867, 4873, 4875, 4879, 4885, 4887, 4889, 4890, 4894, 4900, 4901, 4903, 4906, 4907, 4911, 4918, 4920, 4923, 4924, 4927, 4930, 4934, 4948, 4952, 4953, 4954, 4958, 4960, 4962, 4969, 4971, 4972, 4976, 4990, 4997, 4999], [0, 1, 11, 15, 16, 26, 42, 46, 48, 50, 53, 59, 65, 71, 77, 78, 82, 83, 85, 91, 101, 103, 105, 107, 109, 110, 111, 120, 135, 137, 139, 144, 146, 149, 156, 160, 163, 173, 178, 184, 187, 189, 193, 194, 195, 199, 202, 213, 217, 223, 224, 227, 245, 247, 251, 257, 258, 261, 262, 266, 269, 277, 280, 299, 308, 309, 327, 339, 340, 343, 347, 352, 355, 361, 364, 365, 370, 375, 381, 384, 392, 395, 406, 410, 414, 417, 422, 427, 431, 437, 454, 457, 461, 481, 486, 488, 494, 496, 499, 503, 509, 512, 513, 516, 521, 525, 532, 533, 538, 539, 540, 546, 563, 565, 570, 571, 576, 579, 584, 585, 586, 590, 600, 602, 604, 616, 617, 621, 641, 649, 653, 654, 656, 667, 672, 675, 680, 684, 699, 710, 717, 718, 726, 728, 730, 734, 736, 741, 745, 746, 751, 752, 754, 760, 762, 765, 776, 792, 796, 803, 809, 812, 813, 816, 817, 820, 822, 823, 837, 840, 842, 848, 850, 859, 865, 867, 869, 871, 880, 886, 889, 894, 904, 921, 926, 943, 946, 949, 950, 951, 958, 965, 968, 969, 970, 976, 978, 980, 981, 983, 988, 994, 1001, 1005, 1015, 1021, 1026, 1027, 1028, 1029, 1037, 1042, 1044, 1050, 1058, 1059, 1066, 1073, 1076, 1085, 1088, 1091, 1098, 1103, 1105, 1107, 1118, 1125, 1127, 1147, 1155, 1156, 1163, 1170, 1175, 1178, 1185, 1189, 1201, 1209, 1215, 1216, 1218, 1219, 1221, 1227, 1230, 1234, 1235, 1241, 1245, 1252, 1268, 1271, 1275, 1277, 1282, 1293, 1297, 1298, 1309, 1311, 1317, 1319, 1321, 1325, 1352, 1353, 1355, 1380, 1388, 1390, 1394, 1401, 1405, 1406, 1420, 1423, 1439, 1443, 1449, 1465, 1468, 1470, 1471, 1472, 1474, 1486, 1487, 1500, 1501, 1504, 1505, 1508, 1514, 1515, 1518, 1528, 1532, 1535, 1537, 1543, 1544, 1547, 1554, 1556, 1559, 1574, 1577, 1579, 1582, 1590, 1592, 1595, 1596, 1597, 1601, 1613, 1614, 1615, 1617, 1623, 1625, 1630, 1632, 1639, 1649, 1654, 1656, 1674, 1679, 1681, 1693, 1703, 1708, 1710, 1714, 1738, 1754, 1755, 1759, 1762, 1767, 1773, 1777, 1779, 1785, 1789, 1794, 1797, 1798, 1800, 1803, 1809, 1816, 1817, 1818, 1822, 1826, 1827, 1835, 1838, 1845, 1846, 1850, 1863, 1865, 1866, 1877, 1881, 1886, 1892, 1895, 1896, 1902, 1910, 1920, 1923, 1934, 1935, 1942, 1951, 1955, 1969, 1972, 1976, 1981, 1984, 1989, 2000, 2005, 2008, 2010, 2019, 2020, 2032, 2036, 2040, 2041, 2048, 2050, 2054, 2057, 2069, 2073, 2075, 2080, 2082, 2084, 2085, 2094, 2095, 2098, 2100, 2102, 2103, 2104, 2121, 2123, 2127, 2131, 2134, 2141, 2143, 2145, 2148, 2157, 2161, 2163, 2166, 2180, 2183, 2199, 2200, 2201, 2211, 2214, 2215, 2220, 2224, 2225, 2230, 2235, 2247, 2248, 2249, 2253, 2254, 2255, 2260, 2262, 2275, 2277, 2281, 2286, 2291, 2298, 2299, 2308, 2322, 2326, 2334, 2335, 2345, 2353, 2355, 2358, 2359, 2361, 2363, 2368, 2381, 2383, 2397, 2401, 2405, 2413, 2426, 2435, 2441, 2445, 2460, 2462, 2467, 2471, 2473, 2477, 2481, 2484, 2491, 2521, 2528, 2547, 2553, 2557, 2558, 2562, 2565, 2579, 2584, 2588, 2593, 2594, 2595, 2599, 2601, 2603, 2605, 2607, 2617, 2621, 2625, 2627, 2634, 2635, 2638, 2640, 2641, 2650, 2653, 2660, 2661, 2666, 2672, 2673, 2674, 2675, 2684, 2688, 2707, 2713, 2718, 2722, 2726, 2731, 2737, 2746, 2747, 2760, 2766, 2777, 2793, 2801, 2805, 2811, 2816, 2818, 2822, 2825, 2828, 2836, 2842, 2843, 2845, 2854, 2855, 2865, 2868, 2870, 2874, 2879, 2888, 2890, 2897, 2907, 2918, 2930, 2931, 2934, 2952, 2955, 2957, 2958, 2961, 2971, 2975, 2978, 2988, 2990, 2996, 2997, 3001, 3002, 3023, 3027, 3028, 3031, 3032, 3036, 3041, 3050, 3052, 3053, 3055, 3057, 3062, 3066, 3070, 3071, 3090, 3095, 3103, 3105, 3108, 3109, 3130, 3132, 3136, 3140, 3142, 3147, 3149, 3151, 3156, 3172, 3177, 3184, 3186, 3191, 3196, 3197, 3207, 3208, 3218, 3223, 3231, 3236, 3240, 3242, 3252, 3257, 3263, 3268, 3269, 3271, 3277, 3282, 3299, 3301, 3302, 3307, 3317, 3321, 3322, 3330, 3339, 3342, 3347, 3349, 3351, 3359, 3363, 3366, 3367, 3369, 3372, 3382, 3386, 3388, 3392, 3405, 3407, 3410, 3411, 3413, 3416, 3421, 3424, 3429, 3437, 3438, 3439, 3440, 3444, 3446, 3459, 3460, 3461, 3466, 3467, 3469, 3470, 3471, 3479, 3481, 3484, 3486, 3490, 3491, 3492, 3495, 3498, 3506, 3509, 3515, 3519, 3526, 3530, 3532, 3533, 3535, 3547, 3548, 3550, 3560, 3569, 3571, 3578, 3580, 3581, 3582, 3584, 3588, 3589, 3603, 3622, 3623, 3625, 3626, 3628, 3629, 3630, 3644, 3657, 3658, 3661, 3665, 3669, 3671, 3674, 3684, 3690, 3691, 3694, 3701, 3702, 3707, 3711, 3722, 3732, 3740, 3741, 3746, 3752, 3754, 3756, 3764, 3765, 3767, 3771, 3772, 3773, 3782, 3789, 3791, 3794, 3795, 3800, 3807, 3808, 3825, 3826, 3827, 3828, 3853, 3854, 3857, 3858, 3860, 3862, 3864, 3867, 3871, 3878, 3882, 3898, 3901, 3904, 3905, 3916, 3919, 3924, 3933, 3934, 3939, 3947, 3953, 3966, 3968, 3975, 3982, 3987, 3990, 3991, 3993, 3999, 4012, 4014, 4018, 4026, 4033, 4037, 4040, 4045, 4046, 4049, 4052, 4057, 4095, 4103, 4110, 4120, 4122, 4124, 4128, 4132, 4144, 4146, 4150, 4151, 4152, 4155, 4156, 4157, 4166, 4167, 4171, 4173, 4180, 4190, 4193, 4194, 4199, 4204, 4206, 4209, 4221, 4224, 4227, 4231, 4234, 4239, 4257, 4258, 4267, 4269, 4279, 4281, 4286, 4290, 4292, 4299, 4309, 4311, 4328, 4332, 4333, 4337, 4341, 4342, 4343, 4344, 4345, 4348, 4356, 4363, 4366, 4367, 4372, 4374, 4377, 4385, 4386, 4390, 4392, 4401, 4404, 4405, 4412, 4415, 4417, 4419, 4422, 4432, 4433, 4439, 4442, 4448, 4464, 4468, 4469, 4472, 4477, 4481, 4482, 4487, 4489, 4490, 4491, 4494, 4499, 4502, 4505, 4514, 4517, 4521, 4526, 4531, 4537, 4551, 4557, 4561, 4567, 4583, 4586, 4588, 4589, 4591, 4594, 4596, 4597, 4606, 4608, 4609, 4612, 4614, 4615, 4617, 4623, 4626, 4628, 4630, 4631, 4652, 4653, 4654, 4661, 4674, 4675, 4677, 4681, 4685, 4691, 4696, 4697, 4699, 4703, 4705, 4706, 4710, 4719, 4721, 4723, 4726, 4729, 4730, 4736, 4745, 4746, 4749, 4768, 4769, 4773, 4776, 4779, 4781, 4789, 4794, 4797, 4799, 4804, 4810, 4813, 4826, 4828, 4832, 4865, 4868, 4876, 4881, 4896, 4909, 4910, 4921, 4926, 4932, 4933, 4941, 4944, 4945, 4951, 4961, 4966, 4977, 4979, 4984, 4986, 4989, 4993, 4996]]\n",
            "Centroids: [[  9.97451285   2.00207148]\n",
            " [-20.40310599   5.00655283]\n",
            " [  8.71408722  -4.00981947]\n",
            " [ -1.09670369  -0.9992032 ]\n",
            " [ -3.24764066  -7.01766444]]\n"
          ]
        }
      ]
    },
    {
      "cell_type": "code",
      "source": [
        "colors=['red', 'orange', 'yellow', 'green', 'blue']\n",
        "labels=['cluster 1','cluster 2','cluster 3','cluster 4','cluster 5']\n",
        "for i, cluster in enumerate(clusters):\n",
        "    plt.scatter(data[cluster, 0], data[cluster, 1], color = colors[i],label=labels[i])\n",
        "plt.xlabel('Timing Speed')\n",
        "plt.ylabel('Coil Gaps')\n",
        "plt.show()"
      ],
      "metadata": {
        "colab": {
          "base_uri": "https://localhost:8080/",
          "height": 279
        },
        "id": "M0xclN4Ki5bn",
        "outputId": "cee927bd-6a38-44c8-dbf1-f9bd3371d28b"
      },
      "execution_count": 48,
      "outputs": [
        {
          "output_type": "display_data",
          "data": {
            "text/plain": [
              "<Figure size 432x288 with 1 Axes>"
            ],
            "image/png": "[encoded data removed]"
          },
          "metadata": {
            "needs_background": "light"
          }
        }
      ]
    },
    {
      "cell_type": "markdown",
      "source": [
        "# Question 2b"
      ],
      "metadata": {
        "id": "o0rPgvc8H16n"
      }
    },
    {
      "cell_type": "code",
      "source": [
        "new_df = df - df.mean()\n",
        "new_df"
      ],
      "metadata": {
        "colab": {
          "base_uri": "https://localhost:8080/",
          "height": 423
        },
        "id": "3CEZiaFazlgB",
        "outputId": "5c86c2cd-c4e5-470b-d615-0f910aac2510"
      },
      "execution_count": 49,
      "outputs": [
        {
          "output_type": "execute_result",
          "data": {
            "text/plain": [
              "      timing_speed  coil_gap\n",
              "0       -10.749873 -7.036019\n",
              "1       -25.741293 -5.958501\n",
              "2       -11.695726 -0.375333\n",
              "3        23.696267  3.070220\n",
              "4       -11.926508  5.838931\n",
              "...            ...       ...\n",
              "4995      8.072791  2.552685\n",
              "4996     -1.120606 -6.339860\n",
              "4997     14.145626  0.900412\n",
              "4998    -33.116656  5.409362\n",
              "4999    -25.592616 -0.636347\n",
              "\n",
              "[5000 rows x 2 columns]"
            ],
            "text/html": [
              "\n",
              "  <div id=\"df-8033c2f6-3e60-4afe-a06e-e19b5ac82bcc\">\n",
              "    <div class=\"colab-df-container\">\n",
              "      <div>\n",
              "<style scoped>\n",
              "    .dataframe tbody tr th:only-of-type {\n",
              "        vertical-align: middle;\n",
              "    }\n",
              "\n",
              "    .dataframe tbody tr th {\n",
              "        vertical-align: top;\n",
              "    }\n",
              "\n",
              "    .dataframe thead th {\n",
              "        text-align: right;\n",
              "    }\n",
              "</style>\n",
              "<table border=\"1\" class=\"dataframe\">\n",
              "  <thead>\n",
              "    <tr style=\"text-align: right;\">\n",
              "      <th></th>\n",
              "      <th>timing_speed</th>\n",
              "      <th>coil_gap</th>\n",
              "    </tr>\n",
              "  </thead>\n",
              "  <tbody>\n",
              "    <tr>\n",
              "      <th>0</th>\n",
              "      <td>-10.749873</td>\n",
              "      <td>-7.036019</td>\n",
              "    </tr>\n",
              "    <tr>\n",
              "      <th>1</th>\n",
              "      <td>-25.741293</td>\n",
              "      <td>-5.958501</td>\n",
              "    </tr>\n",
              "    <tr>\n",
              "      <th>2</th>\n",
              "      <td>-11.695726</td>\n",
              "      <td>-0.375333</td>\n",
              "    </tr>\n",
              "    <tr>\n",
              "      <th>3</th>\n",
              "      <td>23.696267</td>\n",
              "      <td>3.070220</td>\n",
              "    </tr>\n",
              "    <tr>\n",
              "      <th>4</th>\n",
              "      <td>-11.926508</td>\n",
              "      <td>5.838931</td>\n",
              "    </tr>\n",
              "    <tr>\n",
              "      <th>...</th>\n",
              "      <td>...</td>\n",
              "      <td>...</td>\n",
              "    </tr>\n",
              "    <tr>\n",
              "      <th>4995</th>\n",
              "      <td>8.072791</td>\n",
              "      <td>2.552685</td>\n",
              "    </tr>\n",
              "    <tr>\n",
              "      <th>4996</th>\n",
              "      <td>-1.120606</td>\n",
              "      <td>-6.339860</td>\n",
              "    </tr>\n",
              "    <tr>\n",
              "      <th>4997</th>\n",
              "      <td>14.145626</td>\n",
              "      <td>0.900412</td>\n",
              "    </tr>\n",
              "    <tr>\n",
              "      <th>4998</th>\n",
              "      <td>-33.116656</td>\n",
              "      <td>5.409362</td>\n",
              "    </tr>\n",
              "    <tr>\n",
              "      <th>4999</th>\n",
              "      <td>-25.592616</td>\n",
              "      <td>-0.636347</td>\n",
              "    </tr>\n",
              "  </tbody>\n",
              "</table>\n",
              "<p>5000 rows × 2 columns</p>\n",
              "</div>\n",
              "      <button class=\"colab-df-convert\" onclick=\"convertToInteractive('df-8033c2f6-3e60-4afe-a06e-e19b5ac82bcc')\"\n",
              "              title=\"Convert this dataframe to an interactive table.\"\n",
              "              style=\"display:none;\">\n",
              "        \n",
              "  <svg xmlns=\"http://www.w3.org/2000/svg\" height=\"24px\"viewBox=\"0 0 24 24\"\n",
              "       width=\"24px\">\n",
              "    <path d=\"M0 0h24v24H0V0z\" fill=\"none\"/>\n",
              "    <path d=\"M18.56 5.44l.94 2.06.94-2.06 2.06-.94-2.06-.94-.94-2.06-.94 2.06-2.06.94zm-11 1L8.5 8.5l.94-2.06 2.06-.94-2.06-.94L8.5 2.5l-.94 2.06-2.06.94zm10 10l.94 2.06.94-2.06 2.06-.94-2.06-.94-.94-2.06-.94 2.06-2.06.94z\"/><path d=\"M17.41 7.96l-1.37-1.37c-.4-.4-.92-.59-1.43-.59-.52 0-1.04.2-1.43.59L10.3 9.45l-7.72 7.72c-.78.78-.78 2.05 0 2.83L4 21.41c.39.39.9.59 1.41.59.51 0 1.02-.2 1.41-.59l7.78-7.78 2.81-2.81c.8-.78.8-2.07 0-2.86zM5.41 20L4 18.59l7.72-7.72 1.47 1.35L5.41 20z\"/>\n",
              "  </svg>\n",
              "      </button>\n",
              "      \n",
              "  <style>\n",
              "    .colab-df-container {\n",
              "      display:flex;\n",
              "      flex-wrap:wrap;\n",
              "      gap: 12px;\n",
              "    }\n",
              "\n",
              "    .colab-df-convert {\n",
              "      background-color: #E8F0FE;\n",
              "      border: none;\n",
              "      border-radius: 50%;\n",
              "      cursor: pointer;\n",
              "      display: none;\n",
              "      fill: #1967D2;\n",
              "      height: 32px;\n",
              "      padding: 0 0 0 0;\n",
              "      width: 32px;\n",
              "    }\n",
              "\n",
              "    .colab-df-convert:hover {\n",
              "      background-color: #E2EBFA;\n",
              "      box-shadow: 0px 1px 2px rgba(60, 64, 67, 0.3), 0px 1px 3px 1px rgba(60, 64, 67, 0.15);\n",
              "      fill: #174EA6;\n",
              "    }\n",
              "\n",
              "    [theme=dark] .colab-df-convert {\n",
              "      background-color: #3B4455;\n",
              "      fill: #D2E3FC;\n",
              "    }\n",
              "\n",
              "    [theme=dark] .colab-df-convert:hover {\n",
              "      background-color: #434B5C;\n",
              "      box-shadow: 0px 1px 3px 1px rgba(0, 0, 0, 0.15);\n",
              "      filter: drop-shadow(0px 1px 2px rgba(0, 0, 0, 0.3));\n",
              "      fill: #FFFFFF;\n",
              "    }\n",
              "  </style>\n",
              "\n",
              "      <script>\n",
              "        const buttonEl =\n",
              "          document.querySelector('#df-8033c2f6-3e60-4afe-a06e-e19b5ac82bcc button.colab-df-convert');\n",
              "        buttonEl.style.display =\n",
              "          google.colab.kernel.accessAllowed ? 'block' : 'none';\n",
              "\n",
              "        async function convertToInteractive(key) {\n",
              "          const element = document.querySelector('#df-8033c2f6-3e60-4afe-a06e-e19b5ac82bcc');\n",
              "          const dataTable =\n",
              "            await google.colab.kernel.invokeFunction('convertToInteractive',\n",
              "                                                     [key], {});\n",
              "          if (!dataTable) return;\n",
              "\n",
              "          const docLinkHtml = 'Like what you see? Visit the ' +\n",
              "            '<a target=\"_blank\" href=https://colab.research.google.com/notebooks/data_table.ipynb>data table notebook</a>'\n",
              "            + ' to learn more about interactive tables.';\n",
              "          element.innerHTML = '';\n",
              "          dataTable['output_type'] = 'display_data';\n",
              "          await google.colab.output.renderOutput(dataTable, element);\n",
              "          const docLink = document.createElement('div');\n",
              "          docLink.innerHTML = docLinkHtml;\n",
              "          element.appendChild(docLink);\n",
              "        }\n",
              "      </script>\n",
              "    </div>\n",
              "  </div>\n",
              "  "
            ]
          },
          "metadata": {},
          "execution_count": 49
        }
      ]
    },
    {
      "cell_type": "code",
      "source": [
        "cov = np.cov(new_df.T)\n",
        "eigenvalues, eigenvectors = np.linalg.eig(cov)\n",
        "eigenvalues, eigenvectors"
      ],
      "metadata": {
        "colab": {
          "base_uri": "https://localhost:8080/"
        },
        "id": "u5Edk9NzK4AU",
        "outputId": "12b81acc-a296-466b-b31b-049e652f80fc"
      },
      "execution_count": 50,
      "outputs": [
        {
          "output_type": "execute_result",
          "data": {
            "text/plain": [
              "(array([322.50713273,  17.38845582]), array([[ 0.99838317,  0.05684225],\n",
              "        [-0.05684225,  0.99838317]]))"
            ]
          },
          "metadata": {},
          "execution_count": 50
        }
      ]
    },
    {
      "cell_type": "code",
      "source": [
        "indices = np.argsort(eigenvalues)[::-1]\n",
        "indices"
      ],
      "metadata": {
        "colab": {
          "base_uri": "https://localhost:8080/"
        },
        "id": "zC1OzImtK9TX",
        "outputId": "901e5c5b-246c-42aa-957c-16bc09481bdb"
      },
      "execution_count": 51,
      "outputs": [
        {
          "output_type": "execute_result",
          "data": {
            "text/plain": [
              "array([0, 1])"
            ]
          },
          "metadata": {},
          "execution_count": 51
        }
      ]
    },
    {
      "cell_type": "code",
      "source": [
        "eigenvectors_sorted = eigenvectors[:, indices]\n",
        "eigenvectors_sorted"
      ],
      "metadata": {
        "colab": {
          "base_uri": "https://localhost:8080/"
        },
        "id": "WXMu0pOELKWA",
        "outputId": "4f275e40-9475-4288-bc13-a1cacf9dbf4d"
      },
      "execution_count": 52,
      "outputs": [
        {
          "output_type": "execute_result",
          "data": {
            "text/plain": [
              "array([[ 0.99838317,  0.05684225],\n",
              "       [-0.05684225,  0.99838317]])"
            ]
          },
          "metadata": {},
          "execution_count": 52
        }
      ]
    },
    {
      "cell_type": "markdown",
      "source": [
        "# Question 2c\n",
        "\n",
        "## No, they are not the same"
      ],
      "metadata": {
        "id": "UMtmLBwzJrnb"
      }
    },
    {
      "cell_type": "code",
      "source": [
        "len(cluster)"
      ],
      "metadata": {
        "colab": {
          "base_uri": "https://localhost:8080/"
        },
        "id": "AdbR_92fFMst",
        "outputId": "4989309c-75fd-45f4-efba-4adc6035a1fc"
      },
      "execution_count": 53,
      "outputs": [
        {
          "output_type": "execute_result",
          "data": {
            "text/plain": [
              "1000"
            ]
          },
          "metadata": {},
          "execution_count": 53
        }
      ]
    },
    {
      "cell_type": "code",
      "source": [
        "len(clusters[1])"
      ],
      "metadata": {
        "id": "IIIQMNGxjwfo",
        "colab": {
          "base_uri": "https://localhost:8080/"
        },
        "outputId": "7ca44084-d47d-429f-a675-6bea2141369b"
      },
      "execution_count": 54,
      "outputs": [
        {
          "output_type": "execute_result",
          "data": {
            "text/plain": [
              "1000"
            ]
          },
          "metadata": {},
          "execution_count": 54
        }
      ]
    },
    {
      "cell_type": "code",
      "source": [
        "for i, cluster in enumerate(clusters):\n",
        "  cov = np.cov((data[cluster] - data[cluster].mean()).T)\n",
        "  eigenvalues, eigenvectors = np.linalg.eig(cov)\n",
        "  indices = np.argsort(eigenvalues)[::-1]\n",
        "  print(i)\n",
        "  print(\"eigenvalues: \", eigenvectors[:, indices])"
      ],
      "metadata": {
        "colab": {
          "base_uri": "https://localhost:8080/"
        },
        "id": "_fVhnnU2MYxX",
        "outputId": "b411fc3a-c938-40d1-86f4-66e21fbe5b98"
      },
      "execution_count": 55,
      "outputs": [
        {
          "output_type": "stream",
          "name": "stdout",
          "text": [
            "0\n",
            "eigenvalues:  [[ 0.99993306 -0.01157047]\n",
            " [ 0.01157047  0.99993306]]\n",
            "1\n",
            "eigenvalues:  [[ 0.99993527 -0.01137789]\n",
            " [ 0.01137789  0.99993527]]\n",
            "2\n",
            "eigenvalues:  [[ 0.99989374 -0.01457781]\n",
            " [ 0.01457781  0.99989374]]\n",
            "3\n",
            "eigenvalues:  [[ 0.99990986 -0.01342629]\n",
            " [ 0.01342629  0.99990986]]\n",
            "4\n",
            "eigenvalues:  [[ 0.99992533 -0.01222027]\n",
            " [ 0.01222027  0.99992533]]\n"
          ]
        }
      ]
    },
    {
      "cell_type": "markdown",
      "source": [
        "# Question 2d"
      ],
      "metadata": {
        "id": "6iUwR3MDNarG"
      }
    },
    {
      "cell_type": "code",
      "source": [
        "eig1, eig2 = np.linalg.eig(P.T)\n",
        "new_P = np.dot(eig1, eig2.T).T\n",
        "new_P"
      ],
      "metadata": {
        "colab": {
          "base_uri": "https://localhost:8080/"
        },
        "id": "ssUKivn_jR2t",
        "outputId": "33e72851-03f5-4cfa-fc88-4b582b57c03b"
      },
      "execution_count": 56,
      "outputs": [
        {
          "output_type": "execute_result",
          "data": {
            "text/plain": [
              "array([10.02645889,  1.04999268])"
            ]
          },
          "metadata": {},
          "execution_count": 56
        }
      ]
    },
    {
      "cell_type": "markdown",
      "source": [
        "## The P' is transformed from the relationship matrix \n",
        "\n",
        "## So it is still can be seen as a relationship matrix for data"
      ],
      "metadata": {
        "id": "tPccQ0W7oWIX"
      }
    },
    {
      "cell_type": "markdown",
      "source": [
        "# Question 3a"
      ],
      "metadata": {
        "id": "YSIYrv7Tr762"
      }
    },
    {
      "cell_type": "code",
      "source": [
        "frequent_3_itemsets = [    [1, 2, 3],\n",
        "    [1, 2, 4],\n",
        "    [1, 2, 5],\n",
        "    [1, 3, 4],\n",
        "    [2, 3, 4],\n",
        "    [2, 3, 5],\n",
        "    [3, 4, 5],\n",
        "]"
      ],
      "metadata": {
        "id": "BiP04tjAr9aS"
      },
      "execution_count": 109,
      "outputs": []
    },
    {
      "cell_type": "code",
      "source": [
        "frequent_1_itemsets = [[1], [2], [3], [4], [5]]"
      ],
      "metadata": {
        "id": "dH5QynePsb1_"
      },
      "execution_count": 110,
      "outputs": []
    },
    {
      "cell_type": "code",
      "source": [
        "def generate_candidate_4_itemsets(frequent_3_itemsets, frequent_1_itemsets):\n",
        "    candidate_4_itemsets = set()\n",
        "    for itemset_1 in frequent_3_itemsets:\n",
        "        for itemset_2 in frequent_1_itemsets:\n",
        "            if itemset_2[0] not in itemset_1:\n",
        "                candidate_4_itemset = tuple(sorted(itemset_1 + itemset_2))\n",
        "                candidate_4_itemsets.add(candidate_4_itemset)\n",
        "    return candidate_4_itemsets"
      ],
      "metadata": {
        "id": "hewrDugqwh4O"
      },
      "execution_count": 111,
      "outputs": []
    },
    {
      "cell_type": "code",
      "source": [
        "candidate_4_itemsets = generate_candidate_4_itemsets(frequent_3_itemsets, frequent_1_itemsets)\n",
        "print(\"Candidate 4-itemsets:\", candidate_4_itemsets)"
      ],
      "metadata": {
        "colab": {
          "base_uri": "https://localhost:8080/"
        },
        "id": "TJ9IQFNCwjWQ",
        "outputId": "bbc9ea78-a219-47dc-cfcb-b729d0bc9c8b"
      },
      "execution_count": 112,
      "outputs": [
        {
          "output_type": "stream",
          "name": "stdout",
          "text": [
            "Candidate 4-itemsets: {(1, 3, 4, 5), (1, 2, 3, 5), (1, 2, 3, 4), (2, 3, 4, 5), (1, 2, 4, 5)}\n"
          ]
        }
      ]
    },
    {
      "cell_type": "markdown",
      "source": [
        "# Question 3b"
      ],
      "metadata": {
        "id": "Ekr7Hel7uoFw"
      }
    },
    {
      "cell_type": "code",
      "source": [
        "def new_generate_candidate_4_itemsets(frequent_k_itemsets):\n",
        "    candidate_4_itemsets = set()\n",
        "    for i in range(len(frequent_k_itemsets)):\n",
        "        for j in range(i+1, len(frequent_k_itemsets)):\n",
        "            if frequent_k_itemsets[i][:-1] == frequent_k_itemsets[j][:-1]:\n",
        "                candidate_4_itemset = tuple(frequent_k_itemsets[i]) + (frequent_k_itemsets[j][-1],)\n",
        "                candidate_4_itemsets.add(candidate_4_itemset)\n",
        "    return candidate_4_itemsets"
      ],
      "metadata": {
        "id": "UVkgRDvYupdn"
      },
      "execution_count": 107,
      "outputs": []
    },
    {
      "cell_type": "code",
      "source": [
        "candidate_4_itemsets = new_generate_candidate_4_itemsets(frequent_3_itemsets)\n",
        "print(\"Candidate 4-itemsets:\", candidate_4_itemsets)"
      ],
      "metadata": {
        "colab": {
          "base_uri": "https://localhost:8080/"
        },
        "id": "hKCFGGkUyItg",
        "outputId": "d378cd3d-36b4-4cd6-d57e-557c2c560369"
      },
      "execution_count": 108,
      "outputs": [
        {
          "output_type": "stream",
          "name": "stdout",
          "text": [
            "Candidate 4-itemsets: {(1, 2, 3, 4), (1, 2, 3, 5), (1, 2, 4, 5), (2, 3, 4, 5)}\n"
          ]
        }
      ]
    },
    {
      "cell_type": "markdown",
      "source": [
        "# Question 3c"
      ],
      "metadata": {
        "id": "JfgcEb50yhGb"
      }
    },
    {
      "cell_type": "code",
      "source": [
        "candidate_4_itemsets = generate_candidate_4_itemsets(frequent_3_itemsets, frequent_1_itemsets)\n",
        "print(\"Candidate 4-itemsets:\", candidate_4_itemsets)"
      ],
      "metadata": {
        "colab": {
          "base_uri": "https://localhost:8080/"
        },
        "id": "SWRG8geg1s_I",
        "outputId": "7adcb0c1-b455-4254-e862-ff5eed74ab02"
      },
      "execution_count": 113,
      "outputs": [
        {
          "output_type": "stream",
          "name": "stdout",
          "text": [
            "Candidate 4-itemsets: {(1, 3, 4, 5), (1, 2, 3, 5), (1, 2, 3, 4), (2, 3, 4, 5), (1, 2, 4, 5)}\n"
          ]
        }
      ]
    },
    {
      "cell_type": "markdown",
      "source": [
        "### Manual count:\n",
        "#### (1,3,4,5): 2\n",
        "#### (1,2,3,5): 3\n",
        "#### (1,2,3,4): 4\n",
        "#### (2,3,4,5): 3\n",
        "#### (1,2,4,5)：2\n",
        "\n",
        "#### so it is (1,2,3,4)"
      ],
      "metadata": {
        "id": "jm2djzPC2agO"
      }
    },
    {
      "cell_type": "markdown",
      "source": [
        "# Question 4a\n",
        "###  3*(3^1 + 3^2 + 3^3 + 3^4 + #^5 + 3^6) = 603\n"
      ],
      "metadata": {
        "id": "qV-J4SNP4mSW"
      }
    },
    {
      "cell_type": "markdown",
      "source": [
        "# Question 4b:\n",
        "### 2/4 = 0.5"
      ],
      "metadata": {
        "id": "Rwfi3ev44pT0"
      }
    },
    {
      "cell_type": "markdown",
      "source": [
        "# Question 4c\n",
        "### 2"
      ],
      "metadata": {
        "id": "zmldA5WG5aKY"
      }
    },
    {
      "cell_type": "markdown",
      "source": [
        "# Question 4d\n",
        "\n",
        "### True. Since {a,b} is a subset of {a,b,c,d}, and {a, b, c, d} is a frquent itemset, {a, b} must has the same frequency. Thus, {a, b} is always a frequent itemset"
      ],
      "metadata": {
        "id": "oCus4fVw6SQI"
      }
    },
    {
      "cell_type": "markdown",
      "source": [
        "# Question 4e\n",
        "\n",
        "### True. If all of 3 are frequent itemsets, it means that each of them has comparative frquency among the whole dataset. {a, b, c} as the superset of them, must also appeaered frequently in the dataset, which make itself a frequent dataset\n"
      ],
      "metadata": {
        "id": "15U_b6Hn6-JM"
      }
    },
    {
      "cell_type": "markdown",
      "source": [
        "# Question 4f\n",
        "### false, since {b} is a subset of {b, c} so it also appeared as {b, c} appeared. So, the support if {b} should be large or equal to 30"
      ],
      "metadata": {
        "id": "iS6cxWXR8aJZ"
      }
    },
    {
      "cell_type": "markdown",
      "source": [
        "#  Question 4g\n",
        "### False. The maximum number of size-2 frequent itemsets that can be extracted from a dataset with 5 items is 5C2 = 10."
      ],
      "metadata": {
        "id": "nqyzxpVI9JDb"
      }
    }
  ]
}